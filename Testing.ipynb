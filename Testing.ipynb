{
 "cells": [
  {
   "cell_type": "code",
   "execution_count": null,
   "metadata": {
    "collapsed": false
   },
   "outputs": [
    {
     "name": "stderr",
     "output_type": "stream",
     "text": [
      "Building prefix dict from the default dictionary ...\n",
      "Loading model from cache /tmp/jieba.cache\n"
     ]
    },
    {
     "name": "stdout",
     "output_type": "stream",
     "text": [
      "util init\n"
     ]
    },
    {
     "name": "stderr",
     "output_type": "stream",
     "text": [
      "Loading model cost 0.293 seconds.\n",
      "Prefix dict has been built succesfully.\n"
     ]
    },
    {
     "name": "stdout",
     "output_type": "stream",
     "text": [
      "util init\n",
      "('Sampling ', 100, ' iterations!\\n')\n",
      "danmu project init\n",
      "calculate delta_s 0 second\n"
     ]
    }
   ],
   "source": [
    "import sys\n",
    "sys.path.append('GibbsLDApy/')\n",
    "from Model import *\n",
    "from TPTM import *\n",
    "'''test of model'''\n",
    "\n",
    "# # 不包括需要load_model的\n",
    "argv = ['-est', '-alpha', '0.5', '-beta', '0.1', '-ntopics', '10', '-niters',\n",
    "        '100', '-savestep', '10', '-twords', '20', '-dfile', 'trndocs.dat', '-dir', 'test_data/',\n",
    "        '-model', 'testmodel']\n",
    "lda = Model()\n",
    "lda.init(len(argv),argv)\n",
    "lda.estimate()"
   ]
  },
  {
   "cell_type": "code",
   "execution_count": null,
   "metadata": {
    "collapsed": true
   },
   "outputs": [],
   "source": []
  }
 ],
 "metadata": {
  "kernelspec": {
   "display_name": "Python 2",
   "language": "python",
   "name": "python2"
  },
  "language_info": {
   "codemirror_mode": {
    "name": "ipython",
    "version": 2
   },
   "file_extension": ".py",
   "mimetype": "text/x-python",
   "name": "python",
   "nbconvert_exporter": "python",
   "pygments_lexer": "ipython2",
   "version": "2.7.13"
  }
 },
 "nbformat": 4,
 "nbformat_minor": 2
}
